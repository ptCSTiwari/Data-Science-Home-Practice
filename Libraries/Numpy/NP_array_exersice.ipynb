{
 "cells": [
  {
   "cell_type": "code",
   "execution_count": 2,
   "id": "fd0c4358",
   "metadata": {},
   "outputs": [],
   "source": [
    "import numpy as np"
   ]
  },
  {
   "cell_type": "code",
   "execution_count": 4,
   "id": "414f8604",
   "metadata": {},
   "outputs": [
    {
     "name": "stdout",
     "output_type": "stream",
     "text": [
      "[[100  87  10]\n",
      " [ 71  43  13]\n",
      " [ 77  76  60]]\n",
      "(3, 3)\n"
     ]
    }
   ],
   "source": [
    "#creating a 3*3 random numpy array\n",
    "arr = np.random.randint(1, 101, size=(3, 3))\n",
    "print(arr)\n",
    "print(arr.shape)"
   ]
  },
  {
   "cell_type": "code",
   "execution_count": 15,
   "id": "4ba36c7c",
   "metadata": {},
   "outputs": [
    {
     "data": {
      "text/plain": [
       "array([[100.,  87.,  10.],\n",
       "       [ 71.,  43.,  13.],\n",
       "       [ 77.,  76.,  60.]])"
      ]
     },
     "execution_count": 15,
     "metadata": {},
     "output_type": "execute_result"
    }
   ],
   "source": [
    "#coverting sane array in float array\n",
    "arr.astype('float')"
   ]
  },
  {
   "cell_type": "code",
   "execution_count": 23,
   "id": "9e4c4f35",
   "metadata": {},
   "outputs": [
    {
     "name": "stdout",
     "output_type": "stream",
     "text": [
      "[43 71 13]\n"
     ]
    }
   ],
   "source": [
    "#flattern and fancy indexing\n",
    "flat = arr.flatten()\n",
    "index = flat[[4,3,5]]\n",
    "print(index)"
   ]
  },
  {
   "cell_type": "code",
   "execution_count": 28,
   "id": "113ecb91",
   "metadata": {},
   "outputs": [
    {
     "data": {
      "text/plain": [
       "array([[100,  87,  10],\n",
       "       [ 71,  43,  13],\n",
       "       [ 77,  76,  60]], dtype=int32)"
      ]
     },
     "execution_count": 28,
     "metadata": {},
     "output_type": "execute_result"
    }
   ],
   "source": [
    "#creating 1d array to 3*3 array\n",
    "flat.reshape(3,3)"
   ]
  },
  {
   "cell_type": "code",
   "execution_count": 30,
   "id": "7f419b02",
   "metadata": {},
   "outputs": [
    {
     "data": {
      "text/plain": [
       "array([100,  87,  71,  77,  76,  60], dtype=int32)"
      ]
     },
     "execution_count": 30,
     "metadata": {},
     "output_type": "execute_result"
    }
   ],
   "source": [
    "#applying boolean masking to array\n",
    "flat[flat>50]"
   ]
  }
 ],
 "metadata": {
  "kernelspec": {
   "display_name": "Python 3",
   "language": "python",
   "name": "python3"
  },
  "language_info": {
   "codemirror_mode": {
    "name": "ipython",
    "version": 3
   },
   "file_extension": ".py",
   "mimetype": "text/x-python",
   "name": "python",
   "nbconvert_exporter": "python",
   "pygments_lexer": "ipython3",
   "version": "3.11.9"
  }
 },
 "nbformat": 4,
 "nbformat_minor": 5
}
