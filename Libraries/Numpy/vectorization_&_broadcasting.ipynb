{
 "cells": [
  {
   "cell_type": "code",
   "execution_count": 7,
   "id": "1918fba7",
   "metadata": {},
   "outputs": [],
   "source": [
    "import numpy as np"
   ]
  },
  {
   "cell_type": "markdown",
   "id": "e70f4def",
   "metadata": {},
   "source": [
    "Vectorization"
   ]
  },
  {
   "cell_type": "code",
   "execution_count": 5,
   "id": "14aeb520",
   "metadata": {},
   "outputs": [
    {
     "data": {
      "text/plain": [
       "array([81, 36, 64,  9,  4])"
      ]
     },
     "execution_count": 5,
     "metadata": {},
     "output_type": "execute_result"
    }
   ],
   "source": [
    "arr = np.array([9,6,8,3,2])\n",
    "result = arr ** 2\n",
    "result"
   ]
  },
  {
   "cell_type": "markdown",
   "id": "653ded76",
   "metadata": {},
   "source": [
    "Broadcasting - No extra memory is used\n"
   ]
  },
  {
   "cell_type": "code",
   "execution_count": 11,
   "id": "76c7302c",
   "metadata": {},
   "outputs": [
    {
     "data": {
      "text/plain": [
       "array([91, 46, 74, 19, 14])"
      ]
     },
     "execution_count": 11,
     "metadata": {},
     "output_type": "execute_result"
    }
   ],
   "source": [
    "broadcast = result + 10\n",
    "broadcast"
   ]
  },
  {
   "cell_type": "markdown",
   "id": "40124850",
   "metadata": {},
   "source": [
    "Normalizing data using Broadcasting"
   ]
  },
  {
   "cell_type": "code",
   "execution_count": 15,
   "id": "c90bb89f",
   "metadata": {},
   "outputs": [
    {
     "name": "stdout",
     "output_type": "stream",
     "text": [
      "[ 1.4031166  -0.09309778  0.83788005 -0.99082641 -1.15707245]\n"
     ]
    }
   ],
   "source": [
    "mean = broadcast.mean(axis=0)\n",
    "std = broadcast.std(axis=0)\n",
    "normalized_data = (broadcast-mean)/std\n",
    "print(normalized_data)"
   ]
  }
 ],
 "metadata": {
  "kernelspec": {
   "display_name": "Python 3",
   "language": "python",
   "name": "python3"
  },
  "language_info": {
   "codemirror_mode": {
    "name": "ipython",
    "version": 3
   },
   "file_extension": ".py",
   "mimetype": "text/x-python",
   "name": "python",
   "nbconvert_exporter": "python",
   "pygments_lexer": "ipython3",
   "version": "3.11.9"
  }
 },
 "nbformat": 4,
 "nbformat_minor": 5
}
